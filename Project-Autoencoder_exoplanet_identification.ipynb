{
  "nbformat": 4,
  "nbformat_minor": 0,
  "metadata": {
    "kernelspec": {
      "display_name": "Python 3",
      "language": "python",
      "name": "python3"
    },
    "language_info": {
      "codemirror_mode": {
        "name": "ipython",
        "version": 3
      },
      "file_extension": ".py",
      "mimetype": "text/x-python",
      "name": "python",
      "nbconvert_exporter": "python",
      "pygments_lexer": "ipython3",
      "version": "3.6.7"
    },
    "colab": {
      "name": "cosc440_project_part_2_.ipynb",
      "provenance": [],
      "collapsed_sections": [],
      "toc_visible": true
    }
  },
  "cells": [
    {
      "cell_type": "markdown",
      "metadata": {
        "id": "TZFR2d7k4Y_F"
      },
      "source": [
        "Autoencoder.\n",
        "So that only one files needs to be submitted"
      ]
    },
    {
      "cell_type": "code",
      "metadata": {
        "id": "AWh0UAqaRiYN",
        "colab": {
          "base_uri": "https://localhost:8080/",
          "height": 1000
        },
        "outputId": "93fa83f7-f1f1-4165-edea-b72455e67a88"
      },
      "source": [
        "!pip install astropy\n",
        "!pip install lightkurve\n",
        "!pip install transitleastsquares"
      ],
      "execution_count": null,
      "outputs": [
        {
          "output_type": "stream",
          "text": [
            "Requirement already satisfied: astropy in /usr/local/lib/python3.6/dist-packages (4.1)\n",
            "Requirement already satisfied: numpy>=1.16 in /usr/local/lib/python3.6/dist-packages (from astropy) (1.19.4)\n",
            "Collecting lightkurve\n",
            "\u001b[?25l  Downloading https://files.pythonhosted.org/packages/6b/cb/a2917205537f6bad53b109365e09abe946afbf5d8a4e1f46c3f75abcb398/lightkurve-1.11.3-py3-none-any.whl (515kB)\n",
            "\u001b[K     |████████████████████████████████| 522kB 6.2MB/s \n",
            "\u001b[?25hCollecting astroquery>=0.3.9\n",
            "\u001b[?25l  Downloading https://files.pythonhosted.org/packages/1b/f8/4690523783691ed816b3469c3ec611af3798594d37ade510dd918d59f57e/astroquery-0.4.1.tar.gz (6.5MB)\n",
            "\u001b[K     |████████████████████████████████| 6.5MB 25.9MB/s \n",
            "\u001b[?25hCollecting scipy!=1.4.0,!=1.4.1,>=0.19.0\n",
            "\u001b[?25l  Downloading https://files.pythonhosted.org/packages/c8/89/63171228d5ced148f5ced50305c89e8576ffc695a90b58fe5bb602b910c2/scipy-1.5.4-cp36-cp36m-manylinux1_x86_64.whl (25.9MB)\n",
            "\u001b[K     |████████████████████████████████| 25.9MB 1.7MB/s \n",
            "\u001b[?25hRequirement already satisfied: matplotlib>=1.5.3 in /usr/local/lib/python3.6/dist-packages (from lightkurve) (3.2.2)\n",
            "Requirement already satisfied: tqdm>=4.25.0 in /usr/local/lib/python3.6/dist-packages (from lightkurve) (4.41.1)\n",
            "Requirement already satisfied: patsy>=0.5.1 in /usr/local/lib/python3.6/dist-packages (from lightkurve) (0.5.1)\n",
            "Requirement already satisfied: requests in /usr/local/lib/python3.6/dist-packages (from lightkurve) (2.23.0)\n",
            "Requirement already satisfied: bs4 in /usr/local/lib/python3.6/dist-packages (from lightkurve) (0.0.1)\n",
            "Collecting uncertainties\n",
            "\u001b[?25l  Downloading https://files.pythonhosted.org/packages/45/41/fc7e7b73b603e7c2c9e040b7aa8caf4a88d74b6faa567601ed82b6f0d8e1/uncertainties-3.1.5-py2.py3-none-any.whl (246kB)\n",
            "\u001b[K     |████████████████████████████████| 256kB 40.1MB/s \n",
            "\u001b[?25hCollecting fbpca>=1.0\n",
            "  Downloading https://files.pythonhosted.org/packages/a7/a5/2085d0645a4bb4f0b606251b0b7466c61326e4a471d445c1c3761a2d07bc/fbpca-1.0.tar.gz\n",
            "Requirement already satisfied: astropy>=1.3 in /usr/local/lib/python3.6/dist-packages (from lightkurve) (4.1)\n",
            "Requirement already satisfied: numpy>=1.11 in /usr/local/lib/python3.6/dist-packages (from lightkurve) (1.19.4)\n",
            "Requirement already satisfied: pandas in /usr/local/lib/python3.6/dist-packages (from lightkurve) (1.1.5)\n",
            "Collecting oktopus\n",
            "  Downloading https://files.pythonhosted.org/packages/2d/6e/7b7e11442ff70286c22614d200f6145f83528dc6c99fec0982665e25c8d3/oktopus-0.1.2.tar.gz\n",
            "Collecting keyring>=4.0\n",
            "  Downloading https://files.pythonhosted.org/packages/d0/a0/20e656cd1e2313af619e382782bd47b5f77a3f33d81992554f3aac56e90d/keyring-21.8.0-py3-none-any.whl\n",
            "Requirement already satisfied: beautifulsoup4>=4.3.2 in /usr/local/lib/python3.6/dist-packages (from astroquery>=0.3.9->lightkurve) (4.6.3)\n",
            "Requirement already satisfied: html5lib>=0.999 in /usr/local/lib/python3.6/dist-packages (from astroquery>=0.3.9->lightkurve) (1.0.1)\n",
            "Requirement already satisfied: six in /usr/local/lib/python3.6/dist-packages (from astroquery>=0.3.9->lightkurve) (1.15.0)\n",
            "Requirement already satisfied: kiwisolver>=1.0.1 in /usr/local/lib/python3.6/dist-packages (from matplotlib>=1.5.3->lightkurve) (1.3.1)\n",
            "Requirement already satisfied: python-dateutil>=2.1 in /usr/local/lib/python3.6/dist-packages (from matplotlib>=1.5.3->lightkurve) (2.8.1)\n",
            "Requirement already satisfied: cycler>=0.10 in /usr/local/lib/python3.6/dist-packages (from matplotlib>=1.5.3->lightkurve) (0.10.0)\n",
            "Requirement already satisfied: pyparsing!=2.0.4,!=2.1.2,!=2.1.6,>=2.0.1 in /usr/local/lib/python3.6/dist-packages (from matplotlib>=1.5.3->lightkurve) (2.4.7)\n",
            "Requirement already satisfied: chardet<4,>=3.0.2 in /usr/local/lib/python3.6/dist-packages (from requests->lightkurve) (3.0.4)\n",
            "Requirement already satisfied: certifi>=2017.4.17 in /usr/local/lib/python3.6/dist-packages (from requests->lightkurve) (2020.12.5)\n",
            "Requirement already satisfied: urllib3!=1.25.0,!=1.25.1,<1.26,>=1.21.1 in /usr/local/lib/python3.6/dist-packages (from requests->lightkurve) (1.24.3)\n",
            "Requirement already satisfied: idna<3,>=2.5 in /usr/local/lib/python3.6/dist-packages (from requests->lightkurve) (2.10)\n",
            "Requirement already satisfied: future in /usr/local/lib/python3.6/dist-packages (from uncertainties->lightkurve) (0.16.0)\n",
            "Requirement already satisfied: pytz>=2017.2 in /usr/local/lib/python3.6/dist-packages (from pandas->lightkurve) (2018.9)\n",
            "Requirement already satisfied: autograd in /usr/local/lib/python3.6/dist-packages (from oktopus->lightkurve) (1.3)\n",
            "Collecting SecretStorage>=3.2; sys_platform == \"linux\"\n",
            "  Downloading https://files.pythonhosted.org/packages/63/a2/a6d9099b14eb5dbbb04fb722d2b5322688f8f99b471bdf2097e33efa8091/SecretStorage-3.3.0-py3-none-any.whl\n",
            "Requirement already satisfied: importlib-metadata>=1; python_version < \"3.8\" in /usr/local/lib/python3.6/dist-packages (from keyring>=4.0->astroquery>=0.3.9->lightkurve) (3.3.0)\n",
            "Collecting jeepney>=0.4.2; sys_platform == \"linux\"\n",
            "\u001b[?25l  Downloading https://files.pythonhosted.org/packages/51/b0/a6ea72741aaac3f37fb96d195e4ee576a103c4c04e279bc6b446a70960e1/jeepney-0.6.0-py3-none-any.whl (45kB)\n",
            "\u001b[K     |████████████████████████████████| 51kB 6.2MB/s \n",
            "\u001b[?25hRequirement already satisfied: webencodings in /usr/local/lib/python3.6/dist-packages (from html5lib>=0.999->astroquery>=0.3.9->lightkurve) (0.5.1)\n",
            "Collecting cryptography>=2.0\n",
            "\u001b[?25l  Downloading https://files.pythonhosted.org/packages/c9/de/7054df0620b5411ba45480f0261e1fb66a53f3db31b28e3aa52c026e72d9/cryptography-3.3.1-cp36-abi3-manylinux2010_x86_64.whl (2.6MB)\n",
            "\u001b[K     |████████████████████████████████| 2.6MB 49.3MB/s \n",
            "\u001b[?25hRequirement already satisfied: zipp>=0.5 in /usr/local/lib/python3.6/dist-packages (from importlib-metadata>=1; python_version < \"3.8\"->keyring>=4.0->astroquery>=0.3.9->lightkurve) (3.4.0)\n",
            "Requirement already satisfied: typing-extensions>=3.6.4; python_version < \"3.8\" in /usr/local/lib/python3.6/dist-packages (from importlib-metadata>=1; python_version < \"3.8\"->keyring>=4.0->astroquery>=0.3.9->lightkurve) (3.7.4.3)\n",
            "Requirement already satisfied: cffi>=1.12 in /usr/local/lib/python3.6/dist-packages (from cryptography>=2.0->SecretStorage>=3.2; sys_platform == \"linux\"->keyring>=4.0->astroquery>=0.3.9->lightkurve) (1.14.4)\n",
            "Requirement already satisfied: pycparser in /usr/local/lib/python3.6/dist-packages (from cffi>=1.12->cryptography>=2.0->SecretStorage>=3.2; sys_platform == \"linux\"->keyring>=4.0->astroquery>=0.3.9->lightkurve) (2.20)\n",
            "Building wheels for collected packages: astroquery, fbpca, oktopus\n",
            "  Building wheel for astroquery (setup.py) ... \u001b[?25l\u001b[?25hdone\n",
            "  Created wheel for astroquery: filename=astroquery-0.4.1-cp36-none-any.whl size=3831873 sha256=463873b2a4b67ffb8780e3708887ac8a12b70dbc90ad3ddb95006cc18ab1940c\n",
            "  Stored in directory: /root/.cache/pip/wheels/88/f8/b7/a254cd96e808f708bc0b7d755a8e095c56fbbe94099d7b464f\n",
            "  Building wheel for fbpca (setup.py) ... \u001b[?25l\u001b[?25hdone\n",
            "  Created wheel for fbpca: filename=fbpca-1.0-cp36-none-any.whl size=11377 sha256=ae1ef6a26dce4441af7802d16f6b3cbb75483255b61ebcbee4e4a90b5f7aca53\n",
            "  Stored in directory: /root/.cache/pip/wheels/53/a2/dd/9b66cf53dbc58cec1e613d216689e5fa946d3e7805c30f60dc\n",
            "  Building wheel for oktopus (setup.py) ... \u001b[?25l\u001b[?25hdone\n",
            "  Created wheel for oktopus: filename=oktopus-0.1.2-cp36-none-any.whl size=12779 sha256=d7c938395231b93d7b17928dfc32303cb65c3a317df014f4e39bc2878083de50\n",
            "  Stored in directory: /root/.cache/pip/wheels/9b/90/81/098fc66ee56166d63c9a8fc0a9672ae7b3423396a588ec952a\n",
            "Successfully built astroquery fbpca oktopus\n",
            "\u001b[31mERROR: albumentations 0.1.12 has requirement imgaug<0.2.7,>=0.2.5, but you'll have imgaug 0.2.9 which is incompatible.\u001b[0m\n",
            "Installing collected packages: jeepney, cryptography, SecretStorage, keyring, astroquery, scipy, uncertainties, fbpca, oktopus, lightkurve\n",
            "  Found existing installation: scipy 1.4.1\n",
            "    Uninstalling scipy-1.4.1:\n",
            "      Successfully uninstalled scipy-1.4.1\n",
            "Successfully installed SecretStorage-3.3.0 astroquery-0.4.1 cryptography-3.3.1 fbpca-1.0 jeepney-0.6.0 keyring-21.8.0 lightkurve-1.11.3 oktopus-0.1.2 scipy-1.5.4 uncertainties-3.1.5\n",
            "Collecting transitleastsquares\n",
            "\u001b[?25l  Downloading https://files.pythonhosted.org/packages/21/7f/fed58efc4d37bf07e20ec76e0efe8d73646f13d8507822edde1f34013d8d/transitleastsquares-1.0.25-py3-none-any.whl (47kB)\n",
            "\u001b[K     |████████████████████████████████| 51kB 2.8MB/s \n",
            "\u001b[?25hRequirement already satisfied: astroquery>=0.3.9 in /usr/local/lib/python3.6/dist-packages (from transitleastsquares) (0.4.1)\n",
            "Requirement already satisfied: numba in /usr/local/lib/python3.6/dist-packages (from transitleastsquares) (0.48.0)\n",
            "Collecting configparser\n",
            "  Downloading https://files.pythonhosted.org/packages/08/b2/ef713e0e67f6e7ec7d59aea3ee78d05b39c15930057e724cc6d362a8c3bb/configparser-5.0.1-py3-none-any.whl\n",
            "Requirement already satisfied: numpy in /usr/local/lib/python3.6/dist-packages (from transitleastsquares) (1.19.4)\n",
            "Requirement already satisfied: tqdm in /usr/local/lib/python3.6/dist-packages (from transitleastsquares) (4.41.1)\n",
            "Collecting argparse\n",
            "  Downloading https://files.pythonhosted.org/packages/f2/94/3af39d34be01a24a6e65433d19e107099374224905f1e0cc6bbe1fd22a2f/argparse-1.4.0-py2.py3-none-any.whl\n",
            "Collecting batman-package\n",
            "\u001b[?25l  Downloading https://files.pythonhosted.org/packages/8c/f0/f5ce8ff881311e15a44e43702c65d140e894b07c6e1f3701b49acfb40dd5/batman-package-2.4.7.tar.gz (394kB)\n",
            "\u001b[K     |████████████████████████████████| 399kB 6.0MB/s \n",
            "\u001b[?25h  Installing build dependencies ... \u001b[?25l\u001b[?25hdone\n",
            "  Getting requirements to build wheel ... \u001b[?25l\u001b[?25hdone\n",
            "    Preparing wheel metadata ... \u001b[?25l\u001b[?25hdone\n",
            "Requirement already satisfied: keyring>=4.0 in /usr/local/lib/python3.6/dist-packages (from astroquery>=0.3.9->transitleastsquares) (21.8.0)\n",
            "Requirement already satisfied: six in /usr/local/lib/python3.6/dist-packages (from astroquery>=0.3.9->transitleastsquares) (1.15.0)\n",
            "Requirement already satisfied: requests>=2.4.3 in /usr/local/lib/python3.6/dist-packages (from astroquery>=0.3.9->transitleastsquares) (2.23.0)\n",
            "Requirement already satisfied: html5lib>=0.999 in /usr/local/lib/python3.6/dist-packages (from astroquery>=0.3.9->transitleastsquares) (1.0.1)\n",
            "Requirement already satisfied: beautifulsoup4>=4.3.2 in /usr/local/lib/python3.6/dist-packages (from astroquery>=0.3.9->transitleastsquares) (4.6.3)\n",
            "Requirement already satisfied: astropy>=3.1 in /usr/local/lib/python3.6/dist-packages (from astroquery>=0.3.9->transitleastsquares) (4.1)\n",
            "Requirement already satisfied: setuptools in /usr/local/lib/python3.6/dist-packages (from numba->transitleastsquares) (51.0.0)\n",
            "Requirement already satisfied: llvmlite<0.32.0,>=0.31.0dev0 in /usr/local/lib/python3.6/dist-packages (from numba->transitleastsquares) (0.31.0)\n",
            "Requirement already satisfied: importlib-metadata>=1; python_version < \"3.8\" in /usr/local/lib/python3.6/dist-packages (from keyring>=4.0->astroquery>=0.3.9->transitleastsquares) (3.3.0)\n",
            "Requirement already satisfied: jeepney>=0.4.2; sys_platform == \"linux\" in /usr/local/lib/python3.6/dist-packages (from keyring>=4.0->astroquery>=0.3.9->transitleastsquares) (0.6.0)\n",
            "Requirement already satisfied: SecretStorage>=3.2; sys_platform == \"linux\" in /usr/local/lib/python3.6/dist-packages (from keyring>=4.0->astroquery>=0.3.9->transitleastsquares) (3.3.0)\n",
            "Requirement already satisfied: idna<3,>=2.5 in /usr/local/lib/python3.6/dist-packages (from requests>=2.4.3->astroquery>=0.3.9->transitleastsquares) (2.10)\n",
            "Requirement already satisfied: certifi>=2017.4.17 in /usr/local/lib/python3.6/dist-packages (from requests>=2.4.3->astroquery>=0.3.9->transitleastsquares) (2020.12.5)\n",
            "Requirement already satisfied: chardet<4,>=3.0.2 in /usr/local/lib/python3.6/dist-packages (from requests>=2.4.3->astroquery>=0.3.9->transitleastsquares) (3.0.4)\n",
            "Requirement already satisfied: urllib3!=1.25.0,!=1.25.1,<1.26,>=1.21.1 in /usr/local/lib/python3.6/dist-packages (from requests>=2.4.3->astroquery>=0.3.9->transitleastsquares) (1.24.3)\n",
            "Requirement already satisfied: webencodings in /usr/local/lib/python3.6/dist-packages (from html5lib>=0.999->astroquery>=0.3.9->transitleastsquares) (0.5.1)\n",
            "Requirement already satisfied: typing-extensions>=3.6.4; python_version < \"3.8\" in /usr/local/lib/python3.6/dist-packages (from importlib-metadata>=1; python_version < \"3.8\"->keyring>=4.0->astroquery>=0.3.9->transitleastsquares) (3.7.4.3)\n",
            "Requirement already satisfied: zipp>=0.5 in /usr/local/lib/python3.6/dist-packages (from importlib-metadata>=1; python_version < \"3.8\"->keyring>=4.0->astroquery>=0.3.9->transitleastsquares) (3.4.0)\n",
            "Requirement already satisfied: cryptography>=2.0 in /usr/local/lib/python3.6/dist-packages (from SecretStorage>=3.2; sys_platform == \"linux\"->keyring>=4.0->astroquery>=0.3.9->transitleastsquares) (3.3.1)\n",
            "Requirement already satisfied: cffi>=1.12 in /usr/local/lib/python3.6/dist-packages (from cryptography>=2.0->SecretStorage>=3.2; sys_platform == \"linux\"->keyring>=4.0->astroquery>=0.3.9->transitleastsquares) (1.14.4)\n",
            "Requirement already satisfied: pycparser in /usr/local/lib/python3.6/dist-packages (from cffi>=1.12->cryptography>=2.0->SecretStorage>=3.2; sys_platform == \"linux\"->keyring>=4.0->astroquery>=0.3.9->transitleastsquares) (2.20)\n",
            "Building wheels for collected packages: batman-package\n",
            "  Building wheel for batman-package (PEP 517) ... \u001b[?25l\u001b[?25hdone\n",
            "  Created wheel for batman-package: filename=batman_package-2.4.7-cp36-cp36m-linux_x86_64.whl size=212714 sha256=eadf668a127cbeaa84fb98f1df13f58bd7e47be3f1c1237a864d5d0559f570cf\n",
            "  Stored in directory: /root/.cache/pip/wheels/b8/5d/4e/e06e22911ba3733e7b74fb76ba86ddacb6baa69be68df0cceb\n",
            "Successfully built batman-package\n",
            "Installing collected packages: configparser, argparse, batman-package, transitleastsquares\n",
            "Successfully installed argparse-1.4.0 batman-package-2.4.7 configparser-5.0.1 transitleastsquares-1.0.25\n"
          ],
          "name": "stdout"
        },
        {
          "output_type": "display_data",
          "data": {
            "application/vnd.colab-display-data+json": {
              "pip_warning": {
                "packages": [
                  "argparse"
                ]
              }
            }
          },
          "metadata": {
            "tags": []
          }
        }
      ]
    },
    {
      "cell_type": "code",
      "metadata": {
        "id": "VA0iN9o6RmC7"
      },
      "source": [
        "import lightkurve as lk\n",
        "import numpy as np\n",
        "import matplotlib.pyplot as plt \n",
        "%matplotlib inline"
      ],
      "execution_count": null,
      "outputs": []
    },
    {
      "cell_type": "code",
      "metadata": {
        "id": "RWdtO3Xq4WFk",
        "colab": {
          "base_uri": "https://localhost:8080/"
        },
        "outputId": "bdd8c6e1-7ba1-4aab-95ec-fc77ebb21cac"
      },
      "source": [
        "# This makes sure that we are using Tensorflow 2\n",
        "try:\n",
        "  # Note: %tensorflow_version only exists in Google Colab\n",
        "  %tensorflow_version 2.x\n",
        "except Exception:\n",
        "    pass\n",
        "\n",
        "import tensorflow as tf\n",
        "import numpy as np\n",
        "\n",
        "print(tf.__version__)\n",
        "print(\"GPU Available: \", tf.config.list_physical_devices('GPU'))"
      ],
      "execution_count": null,
      "outputs": [
        {
          "output_type": "stream",
          "text": [
            "2.4.0\n",
            "GPU Available:  []\n"
          ],
          "name": "stdout"
        }
      ]
    },
    {
      "cell_type": "code",
      "metadata": {
        "id": "m9fHbiCb4gnP",
        "colab": {
          "base_uri": "https://localhost:8080/"
        },
        "outputId": "43f74153-2667-4e97-bb66-5bf63eaf61ad"
      },
      "source": [
        "\"\"\"\n",
        "This function adds no noise, we use this as a way of comparing the \n",
        "autoencoder when there's no input noise\n",
        "\"\"\"\n",
        "def no_noise(x):\n",
        "  x = tf.dtypes.cast(x, tf.float32)\n",
        "  return x\n",
        "\n",
        "\"\"\"\n",
        "This function should add a random uniform tensor of the shape of x between \n",
        "-0.3 to 0.3 to x. \n",
        "\n",
        "It should then \"clip\" x to between 0 and 1 (hint: check out tf.clip_by_value)\n",
        "\"\"\"\n",
        "def random_noise(x):\n",
        "  x = tf.dtypes.cast(x, tf.float32)\n",
        "  x = x + tf.random.uniform(tf.shape(x), -0.3, 0.3)\n",
        "  \n",
        "  noised = tf.clip_by_value(x, 0, 1)\n",
        "  return noised\n",
        "\n",
        "\"\"\"\n",
        "This function should multiply a random uniform tensor of the shape of x between \n",
        "0 to 2.0 to x. \n",
        "\n",
        "It should then \"clip\" x to between 0 and 1 (hint: check out tf.clip_by_value)\n",
        "\"\"\"\n",
        "def random_scale(x):\n",
        "  x = tf.dtypes.cast(x, tf.float32)\n",
        "  x = x * tf.random.uniform(x.shape, minval=0, maxval= 2.0)\n",
        "\n",
        "  noised = tf.clip_by_value(x, 0 ,1)\n",
        "  return noised\n",
        "\n",
        "def no_noise(x):\n",
        "  \"\"\"add no noise to the data\"\"\"\n",
        "  return x\n",
        "  \n",
        "# some \"unit tests\"\n",
        "x = [[0.3,0.1],[0.2,0]]\n",
        "y = [[0.1,1],[0,0.33]]\n",
        "result_1 = random_noise(x)\n",
        "result_2 = random_scale(x)\n",
        "result_3 = random_noise(y)\n",
        "result_4 = random_scale(y)\n",
        "\n",
        "for res in [result_1, result_2, result_3, result_4]:\n",
        "  assert(res.shape == (2,2))\n",
        "  assert(res.dtype == tf.float32)\n",
        "  assert(np.max(np.array(res)) <= 1.0)\n",
        "  assert(np.min(np.array(res)) >= 0.0)\n",
        "\n",
        "print(\"Noise functions look good!\")"
      ],
      "execution_count": null,
      "outputs": [
        {
          "output_type": "stream",
          "text": [
            "Noise functions look good!\n"
          ],
          "name": "stdout"
        }
      ]
    },
    {
      "cell_type": "code",
      "metadata": {
        "id": "hxzBfRwC4ixU"
      },
      "source": [
        "class Encoder(tf.keras.layers.Layer):\n",
        "    def __init__(self):\n",
        "       super(Encoder, self).__init__()\n",
        "       self.encoder_conv_1 = tf.keras.layers.Conv1D(10, 50, kernel_initializer=tf.keras.initializers.RandomNormal(stddev=0.1), padding='SAME', bias_initializer=tf.keras.initializers.RandomNormal(stddev=0.1), strides=2, activation=tf.keras.layers.LeakyReLU(alpha=0.2))\n",
        "       #self.encoder_conv_2 = tf.keras.layers.Conv1D(10, 3, kernel_initializer=tf.keras.initializers.RandomNormal(stddev=0.1), padding='SAME', bias_initializer=tf.keras.initializers.RandomNormal(stddev=0.1), strides=2, activation=tf.keras.layers.LeakyReLU(alpha=0.2))\n",
        "       #self.encoder_conv_3 = tf.keras.layers.Conv1D(10, 3, kernel_initializer=tf.keras.initializers.RandomNormal(stddev=0.1), padding='SAME', bias_initializer=tf.keras.initializers.RandomNormal(stddev=0.1), strides=2, activation=tf.keras.layers.LeakyReLU(alpha=0.2))  \n",
        "    \n",
        "    @tf.function\n",
        "    def call(self, images):\n",
        "\n",
        "      return self.encoder_conv_1(images) # self.encoder_conv_3(self.encoder_conv_2(self.encoder_conv_1(images))) "
      ],
      "execution_count": null,
      "outputs": []
    },
    {
      "cell_type": "code",
      "metadata": {
        "id": "x9Grijxd4lie"
      },
      "source": [
        "class Decoder(tf.keras.layers.Layer):\n",
        "    def __init__(self):\n",
        "        super(Decoder, self).__init__()\n",
        "\n",
        "        self.decoder_deconv_1 = tf.keras.layers.Conv1DTranspose(1, 50, kernel_initializer=tf.keras.initializers.RandomNormal(stddev=0.1), padding='SAME', strides=2, bias_initializer=tf.keras.initializers.RandomNormal(stddev=0.1), activation=tf.keras.layers.LeakyReLU(alpha=0.2))\n",
        "        #self.decoder_deconv_2 = tf.keras.layers.Conv1DTranspose(10, 3, kernel_initializer=tf.keras.initializers.RandomNormal(stddev=0.1), padding='SAME', strides=2, bias_initializer=tf.keras.initializers.RandomNormal(stddev=0.1), activation=tf.keras.layers.LeakyReLU(alpha=0.2))\n",
        "        #self.decoder_deconv_3 = tf.keras.layers.Conv1DTranspose(1, 3, kernel_initializer=tf.keras.initializers.RandomNormal(stddev=0.1), padding='SAME', strides=2, bias_initializer=tf.keras.initializers.RandomNormal(stddev=0.1), activation=tf.keras.layers.LeakyReLU(alpha=0.2))\n",
        "        \n",
        "    \n",
        "        \n",
        "    \n",
        "    @tf.function\n",
        "    def call(self, encoder_output):\n",
        "        \n",
        "        return self.decoder_deconv_1(encoder_output) #self.decoder_deconv_3(self.decoder_deconv_2(self.decoder_deconv_1(encoder_output)))  "
      ],
      "execution_count": null,
      "outputs": []
    },
    {
      "cell_type": "code",
      "metadata": {
        "id": "yPYizF_h4n1o"
      },
      "source": [
        "class AutoEncoder(tf.keras.Model):\n",
        "    def __init__(self):\n",
        "        super(AutoEncoder, self).__init__()\n",
        "        self.encoder = Encoder()\n",
        "        self.decoder = Decoder()\n",
        "    \n",
        "    @tf.function\n",
        "    def call(self, images):\n",
        "       return self.decoder.call(self.encoder.call(images))\n",
        "    \n",
        "    @tf.function\n",
        "    def loss_function(self, encoded, originals):\n",
        "      encoded = tf.dtypes.cast(encoded, tf.float32)\n",
        "      originals = tf.dtypes.cast(originals, tf.float32)\n",
        "      return tf.keras.backend.sum(tf.keras.backend.square(encoded- originals))"
      ],
      "execution_count": null,
      "outputs": []
    },
    {
      "cell_type": "code",
      "metadata": {
        "id": "Bu-Gqwiw4pZg"
      },
      "source": [
        "def train(model, optimizer, images, noise_function):\n",
        "  corrupted = noise_function(images)\n",
        "  \n",
        "  with tf.GradientTape() as tape:\n",
        "    encoded = model.call(corrupted)\n",
        "    loss = model.loss_function(encoded, corrupted)\n",
        "  gradients = tape.gradient(loss, model.trainable_variables)\n",
        "  optimizer.apply_gradients(zip(gradients, model.trainable_variables))"
      ],
      "execution_count": null,
      "outputs": []
    },
    {
      "cell_type": "code",
      "metadata": {
        "id": "ToapnAGI4rZm"
      },
      "source": [
        "def total_loss(model, images, noise_function):\n",
        "  sum_loss = 0\n",
        "  corrupted = noise_function(images)\n",
        "  predictions = model(corrupted)\n",
        "  sum_loss += model.loss_function(predictions, corrupted).numpy()\n",
        "  return sum_loss"
      ],
      "execution_count": null,
      "outputs": []
    },
    {
      "cell_type": "markdown",
      "metadata": {
        "id": "6vpSoFLk4yB0"
      },
      "source": [
        "Application of autoencoder\n"
      ]
    },
    {
      "cell_type": "markdown",
      "metadata": {
        "id": "TtnGJi-X_Qx5"
      },
      "source": [
        "# Downloading data from TESS\n"
      ]
    },
    {
      "cell_type": "markdown",
      "metadata": {
        "id": "KnEoSEueVxzn"
      },
      "source": [
        "#fit a physics model\n",
        "1. first use a simple boxed least squares model to find the transit \n",
        "period (fast) \n",
        "2. then use a more advanced model to get other parameters for an estimation of how well the lightcurve fits a physics model\n",
        "3. output some scores of goodness of fit and best parameters"
      ]
    },
    {
      "cell_type": "code",
      "metadata": {
        "id": "GOLB8RCE1gAP"
      },
      "source": [
        "from transitleastsquares import transitleastsquares\n",
        "\n",
        "def fit_model(lc):\n",
        "  pg = lc.to_periodogram(method='bls',duration=0.2, minimum_period=1.0)\n",
        "  pg.plot();\n",
        "  lc.fold(pg.period_at_max_power).scatter();\n",
        "  print(pg.period_at_max_power.value)\n",
        "\n",
        "  model = transitleastsquares(lc.time, lc.flux)\n",
        "  results = model.power(period_min=pg.period_at_max_power.value*0.9, period_max=pg.period_at_max_power.value*1.1)\n",
        "  results.CDPP = lc.estimate_cdpp()\n",
        "  return results\n",
        "\n",
        "def plot_results(results):\n",
        "  plt.figure()\n",
        "  ax = plt.gca()\n",
        "  ax.axvline(results.period, alpha=0.4, lw=3)\n",
        "  plt.xlim(np.min(results.periods), np.max(results.periods))\n",
        "  for n in range(2, 10):\n",
        "      ax.axvline(n*results.period, alpha=0.4, lw=1, linestyle=\"dashed\")\n",
        "      ax.axvline(results.period / n, alpha=0.4, lw=1, linestyle=\"dashed\")\n",
        "  plt.ylabel(r'SDE')\n",
        "  plt.xlabel('Period (days)')\n",
        "  plt.plot(results.periods, results.power, color='black', lw=0.5)\n",
        "  plt.xlim(0, max(results.periods));\n",
        "\n",
        "def print_results(results):\n",
        "  print('Period', format(results.period, '.5f'), 'd')\n",
        "  #print(len(results.transit_times), 'transit times in time series:', \\\n",
        "          #['{0:0.5f}'.format(i) for i in results.transit_times])\n",
        "  print('Transit depth', format(results.depth, '.5f'))\n",
        "  print('Transit duration (days)', format(results.duration, '.5f'))\n",
        "  print('SNR', results.snr)\n",
        "  print('chi2', results.chi2_min)\n",
        "  print('CDPP', results.CDPP)\n",
        "\n",
        "def plot_result_fit(results):\n",
        "  plt.figure()\n",
        "  plt.plot(results.model_folded_phase, results.model_folded_model,color='red')\n",
        "  plt.scatter(results.folded_phase, results.folded_y, color='blue', s=10, alpha=0.5, zorder=2)\n",
        "  plt.xlabel('Phase')\n",
        "  plt.ylabel('Relative flux');\n",
        "\n",
        "def fit_and_report(lc):\n",
        "  results = fit_model(lc)\n",
        "  print_results(results)\n",
        "  plot_results(results)\n",
        "  plot_result_fit(results)"
      ],
      "execution_count": null,
      "outputs": []
    },
    {
      "cell_type": "markdown",
      "metadata": {
        "id": "L22jC1Azpx6N"
      },
      "source": [
        "#compare results to lightcurves generated from Tess"
      ]
    },
    {
      "cell_type": "markdown",
      "metadata": {
        "id": "5-MAeNkvaxpr"
      },
      "source": [
        "Get dataset and make them all 1D"
      ]
    },
    {
      "cell_type": "code",
      "metadata": {
        "id": "-CRBhfyqa1g9"
      },
      "source": [
        "raw_data = lk.search_lightcurvefile('HAT-P-11', sector=14, cadence='short').download()\n",
        "image_lc = raw_data.get_lightcurve('SAP_FLUX')\n",
        "\n",
        "# flatten (detrend) the lightcurve to show relative change using window of 1 day\n",
        "samples_per_day = 1 + 60 * 24 // 2\n",
        "flat_image_lc = image_lc.flatten(samples_per_day);\n",
        "\n",
        "\n",
        "flux = flat_image_lc.flux\n",
        "flux = tf.convert_to_tensor(flux)\n",
        "flux = tf.reshape(flux, (1, 18424, 1))"
      ],
      "execution_count": null,
      "outputs": []
    },
    {
      "cell_type": "markdown",
      "metadata": {
        "id": "CDPMPH_za3e5"
      },
      "source": [
        "Run encoder model on dataset"
      ]
    },
    {
      "cell_type": "code",
      "metadata": {
        "id": "Uv03IESb7AbA"
      },
      "source": [
        "n_epochs = 500\n",
        "model = AutoEncoder()\n",
        "optimizer = tf.keras.optimizers.Adam(learning_rate=0.01)\n",
        "flux = tf.dtypes.cast(flux, tf.float32)\n",
        "\n",
        "for epoch in range(n_epochs):\n",
        "    train(model, optimizer, flux, no_noise)\n",
        "    sum_loss = total_loss(model, flux, no_noise)"
      ],
      "execution_count": null,
      "outputs": []
    },
    {
      "cell_type": "code",
      "metadata": {
        "id": "4ysNavrtz4L1"
      },
      "source": [
        "flux_output = model(flux).numpy()[0]\n",
        "\n",
        "new_flux = []\n",
        "for i in range(len(flux_output)):\n",
        "  new_flux.append(flux_output[i][0])\n",
        "new_flux = np.array(new_flux)\n",
        "\n",
        "flat_image_lc.flux = new_flux\n",
        "flat_image_lc.plot()\n",
        "\n",
        "fit_and_report(flat_image_lc)"
      ],
      "execution_count": null,
      "outputs": []
    },
    {
      "cell_type": "markdown",
      "metadata": {
        "id": "L1NhWTn6hRue"
      },
      "source": [
        "query_solar_system_objects(self[, …]) Returns a list of asteroids or comets which affected the light curve.\n",
        "\n",
        "remove_outliers(self[, sigma, sigma_lower, …]) Removes outlier data points using sigma-clipping.\n",
        "\n",
        "search_result = search_targetpixelfile('Kepler-10')  "
      ]
    }
  ]
}